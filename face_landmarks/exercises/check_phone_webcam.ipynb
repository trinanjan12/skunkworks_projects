{
 "cells": [
  {
   "cell_type": "code",
   "execution_count": null,
   "metadata": {},
   "outputs": [],
   "source": [
    "# !pip install opencv-python"
   ]
  },
  {
   "cell_type": "code",
   "execution_count": 1,
   "metadata": {},
   "outputs": [],
   "source": [
    "import cv2\n",
    "import torch , torchvision"
   ]
  },
  {
   "cell_type": "code",
   "execution_count": 2,
   "metadata": {},
   "outputs": [],
   "source": [
    "\n",
    "# # define a video capture object \n",
    "# vid = cv2.VideoCapture(0) \n",
    "  \n",
    "# while(True): \n",
    "      \n",
    "#     # Capture the video frame \n",
    "#     # by frame \n",
    "#     ret, frame = vid.read() \n",
    "  \n",
    "#     # Display the resulting frame \n",
    "#     frame = cv2.rotate(frame,cv2.cv2.ROTATE_90_COUNTERCLOCKWISE)\n",
    "#     cv2.imshow('frame', frame) \n",
    "#     # the 'q' button is set as the \n",
    "#     # quitting button you may use any \n",
    "#     # desired button of your choice \n",
    "#     if cv2.waitKey(1) & 0xFF == ord('q'): \n",
    "#         break\n",
    "  \n",
    "# # After the loop release the cap object \n",
    "# vid.release() \n",
    "# # Destroy all the windows \n",
    "# cv2.destroyAllWindows() "
   ]
  },
  {
   "cell_type": "code",
   "execution_count": 3,
   "metadata": {},
   "outputs": [],
   "source": [
    "# Some basic setup:\n",
    "# Setup detectron2 logger\n",
    "import detectron2\n",
    "from detectron2.utils.logger import setup_logger\n",
    "setup_logger()\n",
    "\n",
    "# import some common libraries\n",
    "import numpy as np\n",
    "import os, json, cv2, random\n",
    "from matplotlib import pyplot as plt\n",
    "\n",
    "# import some common detectron2 utilities\n",
    "from detectron2 import model_zoo\n",
    "from detectron2.engine import DefaultPredictor\n",
    "from detectron2.config import get_cfg\n",
    "from detectron2.utils.visualizer import Visualizer\n",
    "from detectron2.data import MetadataCatalog, DatasetCatalog"
   ]
  },
  {
   "cell_type": "code",
   "execution_count": 4,
   "metadata": {},
   "outputs": [],
   "source": [
    "# plt.imshow(cv2.cvtColor(frame, cv2.COLOR_BGR2RGB))"
   ]
  },
  {
   "cell_type": "code",
   "execution_count": 5,
   "metadata": {},
   "outputs": [],
   "source": [
    "cfg = get_cfg()\n",
    "# add project-specific config (e.g., TensorMask) here if you're not running a model in detectron2's core library\n",
    "cfg.merge_from_file(model_zoo.get_config_file(\"COCO-InstanceSegmentation/mask_rcnn_R_101_FPN_3x.yaml\"))\n",
    "cfg.MODEL.ROI_HEADS.SCORE_THRESH_TEST = 0.5  # set threshold for this model\n",
    "# Find a model from detectron2's model zoo. You can use the https://dl.fbaipublicfiles... url as well\n",
    "cfg.MODEL.WEIGHTS = model_zoo.get_checkpoint_url(\"COCO-InstanceSegmentation/mask_rcnn_R_101_FPN_3x.yaml\")\n",
    "predictor = DefaultPredictor(cfg)"
   ]
  },
  {
   "cell_type": "code",
   "execution_count": 8,
   "metadata": {},
   "outputs": [],
   "source": [
    "def process_frame(frame):\n",
    "    outputs = predictor(frame)\n",
    "    mask = outputs['instances'].pred_masks.to('cpu').numpy()\n",
    "    new_gaussian_frame = np.zeros([frame.shape[0],frame.shape[1],frame.shape[2]],dtype=np.uint8)\n",
    "    \n",
    "    for i in range(3):\n",
    "        new_gaussian_frame[:,:,i] = frame[:,:,i]*(1 - mask[0])\n",
    "    for i in range(3):\n",
    "        frame[:,:,i] = frame[:,:,i]*(mask[0])\n",
    "        \n",
    "    frame = frame + cv2.GaussianBlur(new_gaussian_frame,(51,51),0)\n",
    "    return frame"
   ]
  },
  {
   "cell_type": "code",
   "execution_count": 9,
   "metadata": {},
   "outputs": [],
   "source": [
    "# define a video capture object \n",
    "vid = cv2.VideoCapture(0) \n",
    "  \n",
    "while(True): \n",
    "      \n",
    "    # Capture the video frame \n",
    "    # by frame \n",
    "    ret, frame = vid.read() \n",
    "  \n",
    "    # Display the resulting frame \n",
    "    frame = cv2.rotate(frame,cv2.cv2.ROTATE_90_COUNTERCLOCKWISE)\n",
    "    # process the frame\n",
    "    frame = process_frame(frame)\n",
    "    cv2.imshow('frame', frame) \n",
    "    # the 'q' button is set as the \n",
    "    # quitting button you may use any \n",
    "    # desired button of your choice \n",
    "    if cv2.waitKey(1) & 0xFF == ord('q'): \n",
    "        break\n",
    "  \n",
    "# After the loop release the cap object \n",
    "vid.release() \n",
    "# Destroy all the windows \n",
    "cv2.destroyAllWindows() "
   ]
  },
  {
   "cell_type": "code",
   "execution_count": null,
   "metadata": {},
   "outputs": [],
   "source": [
    "# outputs = predictor(frame)\n",
    "# mask = outputs['instances'].pred_masks.to('cpu').numpy()\n",
    "# # for i in range(3):\n",
    "# #     frame[:,:,i] = frame[:,:,i]*(mask[0])"
   ]
  },
  {
   "cell_type": "code",
   "execution_count": null,
   "metadata": {},
   "outputs": [],
   "source": [
    "# new_gaussian_frame = np.zeros([frame.shape[0],frame.shape[1],frame.shape[2]],dtype=np.uint8)\n",
    "# # blur = cv2.GaussianBlur(resized_frame,(41,41),0)\n",
    "\n",
    "# for i in range(3):\n",
    "#     new_gaussian_frame[:,:,i] = frame[:,:,i]*(1 - mask[0])\n",
    "# for i in range(3):\n",
    "#     frame[:,:,i] = frame[:,:,i]*(mask[0])\n",
    "# frame = frame + new_gaussian_frame\n",
    "# plt.imshow(cv2.GaussianBlur(new_gaussian_frame,(7,7),0))"
   ]
  }
 ],
 "metadata": {
  "kernelspec": {
   "display_name": "pytorch",
   "language": "python",
   "name": "pytorch"
  },
  "language_info": {
   "codemirror_mode": {
    "name": "ipython",
    "version": 3
   },
   "file_extension": ".py",
   "mimetype": "text/x-python",
   "name": "python",
   "nbconvert_exporter": "python",
   "pygments_lexer": "ipython3",
   "version": "3.8.5"
  }
 },
 "nbformat": 4,
 "nbformat_minor": 4
}
