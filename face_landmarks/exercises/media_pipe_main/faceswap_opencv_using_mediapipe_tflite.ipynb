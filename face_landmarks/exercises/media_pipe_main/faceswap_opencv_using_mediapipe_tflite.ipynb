{
 "cells": [
  {
   "cell_type": "code",
   "execution_count": 42,
   "metadata": {
    "ExecuteTime": {
     "end_time": "2020-11-09T05:00:22.981431Z",
     "start_time": "2020-11-09T05:00:22.977579Z"
    }
   },
   "outputs": [],
   "source": [
    "import numpy as np\n",
    "import tensorflow as tf\n",
    "import cv2\n",
    "from matplotlib import pyplot as plt\n",
    "from PIL import Image"
   ]
  },
  {
   "cell_type": "code",
   "execution_count": 43,
   "metadata": {
    "ExecuteTime": {
     "end_time": "2020-11-09T05:00:23.342294Z",
     "start_time": "2020-11-09T05:00:23.337532Z"
    }
   },
   "outputs": [
    {
     "data": {
      "text/plain": [
       "([{'name': 'input_1',\n",
       "   'index': 0,\n",
       "   'shape': array([  1, 192, 192,   3], dtype=int32),\n",
       "   'shape_signature': array([  1, 192, 192,   3], dtype=int32),\n",
       "   'dtype': numpy.float32,\n",
       "   'quantization': (0.0, 0),\n",
       "   'quantization_parameters': {'scales': array([], dtype=float32),\n",
       "    'zero_points': array([], dtype=int32),\n",
       "    'quantized_dimension': 0},\n",
       "   'sparsity_parameters': {}}],\n",
       " [{'name': 'conv2d_20',\n",
       "   'index': 213,\n",
       "   'shape': array([   1,    1,    1, 1404], dtype=int32),\n",
       "   'shape_signature': array([   1,    1,    1, 1404], dtype=int32),\n",
       "   'dtype': numpy.float32,\n",
       "   'quantization': (0.0, 0),\n",
       "   'quantization_parameters': {'scales': array([], dtype=float32),\n",
       "    'zero_points': array([], dtype=int32),\n",
       "    'quantized_dimension': 0},\n",
       "   'sparsity_parameters': {}},\n",
       "  {'name': 'conv2d_30',\n",
       "   'index': 210,\n",
       "   'shape': array([1, 1, 1, 1], dtype=int32),\n",
       "   'shape_signature': array([1, 1, 1, 1], dtype=int32),\n",
       "   'dtype': numpy.float32,\n",
       "   'quantization': (0.0, 0),\n",
       "   'quantization_parameters': {'scales': array([], dtype=float32),\n",
       "    'zero_points': array([], dtype=int32),\n",
       "    'quantized_dimension': 0},\n",
       "   'sparsity_parameters': {}}])"
      ]
     },
     "execution_count": 43,
     "metadata": {},
     "output_type": "execute_result"
    }
   ],
   "source": [
    "# Load the TFLite model and allocate tensors.\n",
    "interpreter = tf.lite.Interpreter(model_path=\"./face_landmark.tflite\")\n",
    "interpreter.allocate_tensors()\n",
    "\n",
    "# Get input and output tensors.\n",
    "input_details = interpreter.get_input_details()\n",
    "output_details = interpreter.get_output_details()\n",
    "\n",
    "input_details, output_details"
   ]
  },
  {
   "cell_type": "code",
   "execution_count": 44,
   "metadata": {
    "ExecuteTime": {
     "end_time": "2020-11-09T05:00:23.942165Z",
     "start_time": "2020-11-09T05:00:23.918607Z"
    }
   },
   "outputs": [],
   "source": [
    "# Load and process image\n",
    "def process_input(img_path, new_w, new_h):\n",
    "    img = Image.open(img_path)\n",
    "    img = img.resize((new_w, new_h))\n",
    "    return img\n",
    "\n",
    "\n",
    "# Inference on image\n",
    "def inference_facemesh(img_path):\n",
    "    interpreter = tf.lite.Interpreter(model_path='face_landmark.tflite')\n",
    "    interpreter.allocate_tensors()\n",
    "\n",
    "    input_details = interpreter.get_input_details()\n",
    "    output_details = interpreter.get_output_details()\n",
    "\n",
    "    floating_model = input_details[0]['dtype'] == np.float32\n",
    "\n",
    "    req_height = input_details[0]['shape'][1]\n",
    "    req_width = input_details[0]['shape'][2]\n",
    "    img = process_input(img_path, req_width, req_height)\n",
    "    input_data = np.expand_dims(img, axis=0)\n",
    "\n",
    "    if floating_model:\n",
    "        input_data = (np.float32(input_data) - 127.5) / 127.5\n",
    "\n",
    "    interpreter.set_tensor(input_details[0]['index'], input_data)\n",
    "    interpreter.invoke()\n",
    "\n",
    "    output_data = interpreter.get_tensor(output_details[0]['index'])\n",
    "    results = np.squeeze(output_data)\n",
    "    results.shape = (468, 3)\n",
    "\n",
    "    return results\n",
    "\n",
    "\n",
    "def display_image(face_mesh_result, img_path):\n",
    "    plt.imshow(process_input(img_path , 192, 192), zorder=1)\n",
    "    x, y = face_mesh_result[:, 0], face_mesh_result[:, 1]\n",
    "    plt.scatter(x, y, zorder=2, s=1.0)\n",
    "    plt.show()\n",
    "    \n",
    "def process_input(img_path, new_w=192, new_h=192, img_format='pil_image'):\n",
    "    if img_format == 'pil_image':\n",
    "        img = Image.open(img_path)\n",
    "        img = img.resize((new_w, new_h))\n",
    "\n",
    "    if img_format == 'cv2':\n",
    "        img = cv2.imread(img_path)\n",
    "        img = cv2.resize(img, (new_w, new_h))\n",
    "\n",
    "    return img\n",
    "\n",
    "def process_landmark_points(face_mesh_result):\n",
    "    landmark_points_org = face_mesh_result[:, 0:2]\n",
    "    landmark_points_org = [\n",
    "        list(map(int, i)) for i in landmark_points_org\n",
    "    ]\n",
    "    landmark_points_tuple = [tuple(i) for i in landmark_points_org]\n",
    "    landmark_points_arr = np.array(landmark_points_tuple, np.int32)\n",
    "    \n",
    "    return landmark_points_tuple,landmark_points_arr\n",
    "\n",
    "def rect_around_triangle(points_list):\n",
    "    triangle = np.array(points_list, np.int32)\n",
    "    rect = cv2.boundingRect(triangle)\n",
    "    return rect\n"
   ]
  },
  {
   "cell_type": "code",
   "execution_count": 45,
   "metadata": {
    "ExecuteTime": {
     "end_time": "2020-11-09T05:00:25.345104Z",
     "start_time": "2020-11-09T05:00:25.343570Z"
    }
   },
   "outputs": [],
   "source": [
    "# test_image_path = './test.jpg'\n",
    "# face_mesh_result = inference_facemesh(test_image_path)\n",
    "# display_image(face_mesh_result, test_image_path)"
   ]
  },
  {
   "cell_type": "code",
   "execution_count": 46,
   "metadata": {
    "ExecuteTime": {
     "end_time": "2020-11-09T05:00:25.684226Z",
     "start_time": "2020-11-09T05:00:25.635011Z"
    }
   },
   "outputs": [],
   "source": [
    "source_path = './bradley_cooper.jpg'\n",
    "target_path = './jim_carrey.jpg'\n",
    "\n",
    "source_mesh_results = inference_facemesh(source_path)\n",
    "target_mesh_results = inference_facemesh(target_path)\n",
    "\n",
    "# display_image(source_mesh_results, source_path)\n",
    "# display_image(target_mesh_results, target_path)"
   ]
  },
  {
   "cell_type": "code",
   "execution_count": 48,
   "metadata": {
    "ExecuteTime": {
     "end_time": "2020-11-09T05:01:03.401491Z",
     "start_time": "2020-11-09T05:01:03.390092Z"
    }
   },
   "outputs": [
    {
     "data": {
      "text/plain": [
       "array([ 84.55849 , 110.10008 , -12.642598], dtype=float32)"
      ]
     },
     "execution_count": 48,
     "metadata": {},
     "output_type": "execute_result"
    }
   ],
   "source": [
    "source_mesh_results[0]"
   ]
  },
  {
   "cell_type": "code",
   "execution_count": 10,
   "metadata": {
    "ExecuteTime": {
     "end_time": "2020-11-08T16:20:07.712652Z",
     "start_time": "2020-11-08T16:20:07.705746Z"
    }
   },
   "outputs": [],
   "source": [
    "source_landmark_points_tuple, source_landmark_points_arr = process_landmark_points(\n",
    "    source_mesh_results)\n",
    "target_landmark_points_tuple, target_landmark_points_arr = process_landmark_points(\n",
    "    target_mesh_results)\n",
    "\n",
    "source_convex_hul = cv2.convexHull(source_landmark_points_arr)\n",
    "target_convex_hul = cv2.convexHull(target_landmark_points_arr)"
   ]
  },
  {
   "cell_type": "code",
   "execution_count": 11,
   "metadata": {
    "ExecuteTime": {
     "end_time": "2020-11-08T16:20:20.995402Z",
     "start_time": "2020-11-08T16:20:20.949065Z"
    }
   },
   "outputs": [],
   "source": [
    "# original image , gray image, and mask\n",
    "source_img = process_input(source_path,img_format='cv2')\n",
    "source_img_gray = cv2.cvtColor(source_img, cv2.COLOR_BGR2GRAY)\n",
    "source_img_mask = np.zeros_like(source_img_gray)\n",
    "\n",
    "target_img = process_input(target_path,img_format='cv2')\n",
    "target_img_gray = cv2.cvtColor(target_img, cv2.COLOR_BGR2GRAY)\n",
    "target_img_mask = np.zeros_like(target_img_gray)"
   ]
  },
  {
   "cell_type": "code",
   "execution_count": 12,
   "metadata": {
    "ExecuteTime": {
     "end_time": "2020-11-08T16:20:24.017987Z",
     "start_time": "2020-11-08T16:20:24.016289Z"
    }
   },
   "outputs": [],
   "source": [
    "# # For visualization\n",
    "\n",
    "# cv2.polylines(source_img,[source_convex_hul],True,(255,0,0),3) # draws a boundary convex hull around face\n",
    "# cv2.fillConvexPoly(source_img_mask,source_convex_hul,255) # fill area inside convex hull of mask with 255\n",
    "\n",
    "# face_image_1 = cv2.bitwise_and(source_img, source_img, mask=source_img_mask)\n",
    "# cv2.imshow(\"Image 1\", source_img)\n",
    "# cv2.imshow(\"Face image 1\", face_image_1)\n",
    "# cv2.imshow(\"Mask\", source_img_mask)\n",
    "# cv2.waitKey(0)\n",
    "# cv2.destroyAllWindows()"
   ]
  },
  {
   "cell_type": "code",
   "execution_count": 13,
   "metadata": {
    "ExecuteTime": {
     "end_time": "2020-11-08T16:20:37.059986Z",
     "start_time": "2020-11-08T16:20:37.022979Z"
    }
   },
   "outputs": [],
   "source": [
    "# Delaunav Triangulation for source face\n",
    "rect = cv2.boundingRect(\n",
    "    source_convex_hul\n",
    ")  # returns rectangle sourrouding the convexhull (x,y,w,h)\n",
    "subdiv = cv2.Subdiv2D(\n",
    "    rect\n",
    ")  # this is a builtin function in opencv to find Delaunav triangulation\n",
    "subdiv.insert(source_landmark_points_tuple)  # insert the points as tuple\n",
    "triangles_source_face = subdiv.getTriangleList(\n",
    ")  # returns the triangle from image (3 point of x,y)\n",
    "triangles_source_face = np.array(triangles_source_face, dtype=np.int32)\n",
    "\n",
    "#get the corresponding index from the landmark_points_arr\n",
    "#this index will be used to get the values from the target_face\n",
    "\n",
    "triangles_source_face_index = []\n",
    "for t in triangles_source_face:\n",
    "    pt1 = (t[0], t[1])\n",
    "    pt1_index = np.where((source_landmark_points_arr == pt1).all(axis=1))[0][0]\n",
    "    pt2 = (t[2], t[3])\n",
    "    pt2_index = np.where((source_landmark_points_arr == pt2).all(axis=1))[0][0]\n",
    "    pt3 = (t[4], t[5])\n",
    "    pt3_index = np.where((source_landmark_points_arr == pt3).all(axis=1))[0][0]\n",
    "    triangles_source_face_index.append([pt1_index, pt2_index, pt3_index])\n",
    "\n",
    "    # For visualization\n",
    "#     cv2.line(source_img, pt1, pt2, (0, 0, 255), 2)\n",
    "#     cv2.line(source_img, pt2, pt3, (0, 0, 255), 2)\n",
    "#     cv2.line(source_img, pt1, pt3, (0, 0, 255), 2)\n",
    "\n",
    "# cv2.imshow(\"Image 1\", source_img)\n",
    "# cv2.waitKey(0)\n",
    "# cv2.destroyAllWindows()"
   ]
  },
  {
   "cell_type": "code",
   "execution_count": 14,
   "metadata": {
    "ExecuteTime": {
     "end_time": "2020-11-08T16:20:45.605194Z",
     "start_time": "2020-11-08T16:20:45.600278Z"
    }
   },
   "outputs": [],
   "source": [
    "# # For visualization\n",
    "# x,y,w,h = rect\n",
    "# cv2.rectangle(source_img,(x,y),(x+w,y+h),(0,255,0))\n",
    "# cv2.imshow(\"Image 1\", source_img)\n",
    "# cv2.waitKey(0)\n",
    "# cv2.destroyAllWindows()"
   ]
  },
  {
   "cell_type": "code",
   "execution_count": 15,
   "metadata": {
    "ExecuteTime": {
     "end_time": "2020-11-08T16:20:49.774164Z",
     "start_time": "2020-11-08T16:20:49.768806Z"
    }
   },
   "outputs": [],
   "source": [
    "# eval('source_' + str('landmark_points_arr'))"
   ]
  },
  {
   "cell_type": "code",
   "execution_count": null,
   "metadata": {
    "ExecuteTime": {
     "end_time": "2020-11-08T16:10:47.879373Z",
     "start_time": "2020-11-08T16:10:47.872512Z"
    }
   },
   "outputs": [],
   "source": []
  },
  {
   "cell_type": "code",
   "execution_count": 16,
   "metadata": {
    "ExecuteTime": {
     "end_time": "2020-11-08T16:20:58.319023Z",
     "start_time": "2020-11-08T16:20:58.317084Z"
    }
   },
   "outputs": [],
   "source": [
    "# # For visualization \n",
    "# # Triangulation of target face using the source face\n",
    "\n",
    "# for triangle_index in triangles_source_face_index:\n",
    "#     # Triangulation Source Face\n",
    "#     tr1_pt1 = tuple(source_landmark_points_arr[triangle_index[0]])\n",
    "#     tr1_pt2 = tuple(source_landmark_points_arr[triangle_index[1]])\n",
    "#     tr1_pt3 = tuple(source_landmark_points_arr[triangle_index[2]])\n",
    "\n",
    "#     (x, y, w, h) = rect_around_triangle([tr1_pt1, tr1_pt2, tr1_pt3])\n",
    "#     cropped_triangle_source = source_img[y:y + h, x:x + w]\n",
    "\n",
    "#     cropped_triangle1_mask = np.zeros((h, w), np.uint8)\n",
    "#     points1 = np.array(\n",
    "#         [[tr1_pt1[0] - x, tr1_pt1[1] - y], [tr1_pt2[0] - x, tr1_pt2[1] - y],\n",
    "#          [tr1_pt3[0] - x, tr1_pt3[1] - y]], np.int32)\n",
    "#     cv2.fillConvexPoly(cropped_triangle1_mask, points1, 255)\n",
    "#     cropped_triangle_source = cv2.bitwise_and(cropped_triangle_source,\n",
    "#                                         cropped_triangle_source,\n",
    "#                                         mask=cropped_triangle1_mask)\n",
    "\n",
    "#     # Triangulation Target Face\n",
    "#     tr2_pt1 = tuple(target_landmark_points_arr[triangle_index[0]])\n",
    "#     tr2_pt2 = tuple(target_landmark_points_arr[triangle_index[1]])\n",
    "#     tr2_pt3 = tuple(target_landmark_points_arr[triangle_index[2]])\n",
    "\n",
    "#     (x, y, w, h) = rect_around_triangle([tr2_pt1, tr2_pt2, tr2_pt3])\n",
    "#     cropped_triangle_target = target_img[y:y + h, x:x + w]\n",
    "\n",
    "#     cropped_triangle2_mask = np.zeros((h, w), np.uint8)\n",
    "#     points2 = np.array(\n",
    "#         [[tr2_pt1[0] - x, tr2_pt1[1] - y], [tr2_pt2[0] - x, tr2_pt2[1] - y],\n",
    "#          [tr2_pt3[0] - x, tr2_pt3[1] - y]], np.int32)\n",
    "#     cv2.fillConvexPoly(cropped_triangle2_mask, points2, 255)\n",
    "#     cropped_triangle_target = cv2.bitwise_and(cropped_triangle_target,\n",
    "#                                         cropped_triangle_target,\n",
    "#                                         mask=cropped_triangle2_mask)\n",
    "    \n",
    "#     points1 = points1.astype(np.float32)\n",
    "#     points2 = points2.astype(np.float32)\n",
    "#     M = cv2.getAffineTransform(points1, points2)\n",
    "#     warped_triangle = cv2.warpAffine(cropped_triangle_source, M, (w, h))\n",
    "#     break\n",
    "    \n",
    "# cv2.imshow(\"Image 1\", warped_triangle)\n",
    "# cv2.imshow(\"Image 2\", cropped_triangle_target)\n",
    "# cv2.imshow(\"Image 3\", cropped_triangle_source)\n",
    "\n",
    "# cv2.waitKey(0)\n",
    "# cv2.destroyAllWindows()"
   ]
  },
  {
   "cell_type": "code",
   "execution_count": 17,
   "metadata": {
    "ExecuteTime": {
     "end_time": "2020-11-08T16:20:59.805790Z",
     "start_time": "2020-11-08T16:20:59.804297Z"
    }
   },
   "outputs": [],
   "source": [
    "# select a rect around each triangle for both the face\n",
    "# create the mask and extract the triangle for both the face\n",
    "# now using affine transform warp the triangle from source face to target face"
   ]
  },
  {
   "cell_type": "code",
   "execution_count": 31,
   "metadata": {
    "ExecuteTime": {
     "end_time": "2020-11-09T03:45:52.643891Z",
     "start_time": "2020-11-09T03:45:52.581222Z"
    }
   },
   "outputs": [],
   "source": [
    "# Triangulation \n",
    "new_target_face = np.zeros_like(target_img) \n",
    "\n",
    "for triangle_index in triangles_source_face_index:\n",
    "\n",
    "    ################ Triangulation Source Face ################\n",
    "    # get triangle index\n",
    "    tr1_pt1 = tuple(source_landmark_points_arr[triangle_index[0]])\n",
    "    tr1_pt2 = tuple(source_landmark_points_arr[triangle_index[1]])\n",
    "    tr1_pt3 = tuple(source_landmark_points_arr[triangle_index[2]])\n",
    "    \n",
    "    # get rect around triangle\n",
    "    (x, y, w, h) = rect_around_triangle([tr1_pt1, tr1_pt2, tr1_pt3])\n",
    "    cropped_triangle_source = source_img[y:y + h, x:x + w]\n",
    "    # create a mask same size of rect\n",
    "    cropped_triangle1_mask = np.zeros((h, w), np.uint8)\n",
    "    points1 = np.array(\n",
    "        [[tr1_pt1[0] - x, tr1_pt1[1] - y], [tr1_pt2[0] - x, tr1_pt2[1] - y],\n",
    "         [tr1_pt3[0] - x, tr1_pt3[1] - y]], np.int32)\n",
    "    cv2.fillConvexPoly(cropped_triangle1_mask, points1, 255)\n",
    "    # this filters out the triangular part of the image using the mask\n",
    "    cropped_triangle_source = cv2.bitwise_and(cropped_triangle_source,\n",
    "                                              cropped_triangle_source,\n",
    "                                              mask=cropped_triangle1_mask)\n",
    "\n",
    "    ################ Triangulation Target Face ################\n",
    "    tr2_pt1 = tuple(target_landmark_points_arr[triangle_index[0]])\n",
    "    tr2_pt2 = tuple(target_landmark_points_arr[triangle_index[1]])\n",
    "    tr2_pt3 = tuple(target_landmark_points_arr[triangle_index[2]])\n",
    "    \n",
    "    # get rect around triangle\n",
    "    (x, y, w, h) = rect_around_triangle([tr2_pt1, tr2_pt2, tr2_pt3])\n",
    "    cropped_triangle_target = target_img[y:y + h, x:x + w]\n",
    "    # create a mask same size of rect\n",
    "    cropped_triangle2_mask = np.zeros((h, w), np.uint8)\n",
    "    points2 = np.array(\n",
    "        [[tr2_pt1[0] - x, tr2_pt1[1] - y], [tr2_pt2[0] - x, tr2_pt2[1] - y],\n",
    "         [tr2_pt3[0] - x, tr2_pt3[1] - y]], np.int32)\n",
    "    cv2.fillConvexPoly(cropped_triangle2_mask, points2, 255)\n",
    "    # this filters out the triangular part of the image using the mask\n",
    "    cropped_triangle_target = cv2.bitwise_and(cropped_triangle_target,\n",
    "                                              cropped_triangle_target,\n",
    "                                              mask=cropped_triangle2_mask)\n",
    "    # warped using affine transform\n",
    "    points1 = points1.astype(np.float32)\n",
    "    points2 = points2.astype(np.float32)\n",
    "    M = cv2.getAffineTransform(points1, points2)\n",
    "    warped_triangle = cv2.warpAffine(cropped_triangle_source, M, (w, h))\n",
    "    warped_triangle = cv2.bitwise_and(warped_triangle, warped_triangle, mask=cropped_triangle2_mask)\n",
    "    \n",
    "    # Reconstructing destination face\n",
    "    new_target_face_rect_area = new_target_face[y: y + h, x: x + w]\n",
    "    new_target_face_rect_area_gray = cv2.cvtColor(new_target_face_rect_area, cv2.COLOR_BGR2GRAY)\n",
    "    \n",
    "    # Let's create a mask to remove the lines between the triangles\n",
    "    _, mask_triangles_designed = cv2.threshold(new_target_face_rect_area_gray, 1, 255, cv2.THRESH_BINARY_INV)\n",
    "    warped_triangle = cv2.bitwise_and(warped_triangle, warped_triangle, mask=mask_triangles_designed)\n",
    "    img2_new_face_rect_area = cv2.add(new_target_face_rect_area, warped_triangle)\n",
    "    new_target_face[y: y + h, x: x + w] = img2_new_face_rect_area"
   ]
  },
  {
   "cell_type": "code",
   "execution_count": 32,
   "metadata": {
    "ExecuteTime": {
     "end_time": "2020-11-09T03:45:57.143434Z",
     "start_time": "2020-11-09T03:45:53.391537Z"
    }
   },
   "outputs": [],
   "source": [
    "cv2.imshow(\"'new_target_face\",new_target_face)\n",
    "cv2.waitKey(0)\n",
    "cv2.destroyAllWindows()"
   ]
  },
  {
   "cell_type": "code",
   "execution_count": 33,
   "metadata": {
    "ExecuteTime": {
     "end_time": "2020-11-09T03:46:05.399230Z",
     "start_time": "2020-11-09T03:45:58.853071Z"
    }
   },
   "outputs": [],
   "source": [
    "# Face swapped (putting 1st face into 2nd face)\n",
    "img2_face_mask = np.zeros_like(target_img_gray)\n",
    "img2_head_mask = cv2.fillConvexPoly(img2_face_mask, target_convex_hul, 255)\n",
    "img2_face_mask = cv2.bitwise_not(img2_head_mask)\n",
    "img2_head_noface = cv2.bitwise_and(target_img, target_img, mask=img2_face_mask)\n",
    "result = cv2.add(img2_head_noface, new_target_face)\n",
    "\n",
    "(x, y, w, h) = cv2.boundingRect(target_convex_hul)\n",
    "center_face2 = (int((x + x + w) / 2), int((y + y + h) / 2))\n",
    "seamlessclone = cv2.seamlessClone(result, target_img, img2_head_mask, center_face2, cv2.NORMAL_CLONE)\n",
    "\n",
    "cv2.imshow(\"seamlessclone\",seamlessclone)\n",
    "# cv2.imshow(\"result\",result)\n",
    "# cv2.imshow(\"image2\",img_1)\n",
    "cv2.waitKey(0)\n",
    "cv2.destroyAllWindows() "
   ]
  },
  {
   "cell_type": "code",
   "execution_count": 36,
   "metadata": {
    "ExecuteTime": {
     "end_time": "2020-11-09T03:46:23.076266Z",
     "start_time": "2020-11-09T03:46:20.262140Z"
    }
   },
   "outputs": [],
   "source": [
    "median = cv2.medianBlur(seamlessclone,3)\n",
    "cv2.imshow(\"'new_target_face\",median)\n",
    "cv2.waitKey(0)\n",
    "cv2.destroyAllWindows()"
   ]
  },
  {
   "cell_type": "code",
   "execution_count": 41,
   "metadata": {
    "ExecuteTime": {
     "end_time": "2020-11-09T03:47:45.633831Z",
     "start_time": "2020-11-09T03:47:45.620361Z"
    }
   },
   "outputs": [
    {
     "data": {
      "image/png": "[encoded data removed]",
      "text/plain": [
       "<PIL.Image.Image image mode=RGB size=192x192 at 0x7FAF2E4EA9A0>"
      ]
     },
     "execution_count": 41,
     "metadata": {},
     "output_type": "execute_result"
    }
   ],
   "source": [
    "img = cv2.cvtColor(median, cv2.COLOR_BGR2RGB)\n",
    "Image.fromarray(img)"
   ]
  },
  {
   "cell_type": "code",
   "execution_count": null,
   "metadata": {},
   "outputs": [],
   "source": []
  }
 ],
 "metadata": {
  "kernelspec": {
   "display_name": "mediapipe",
   "language": "python",
   "name": "mediapipe"
  },
  "language_info": {
   "codemirror_mode": {
    "name": "ipython",
    "version": 3
   },
   "file_extension": ".py",
   "mimetype": "text/x-python",
   "name": "python",
   "nbconvert_exporter": "python",
   "pygments_lexer": "ipython3",
   "version": "3.8.5"
  },
  "varInspector": {
   "cols": {
    "lenName": 16,
    "lenType": 16,
    "lenVar": 40
   },
   "kernels_config": {
    "python": {
     "delete_cmd_postfix": "",
     "delete_cmd_prefix": "del ",
     "library": "var_list.py",
     "varRefreshCmd": "print(var_dic_list())"
    },
    "r": {
     "delete_cmd_postfix": ") ",
     "delete_cmd_prefix": "rm(",
     "library": "var_list.r",
     "varRefreshCmd": "cat(var_dic_list()) "
    }
   },
   "types_to_exclude": [
    "module",
    "function",
    "builtin_function_or_method",
    "instance",
    "_Feature"
   ],
   "window_display": false
  }
 },
 "nbformat": 4,
 "nbformat_minor": 4
}
