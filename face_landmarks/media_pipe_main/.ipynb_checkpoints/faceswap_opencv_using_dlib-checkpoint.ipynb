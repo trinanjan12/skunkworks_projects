{
 "cells": [
  {
   "cell_type": "code",
   "execution_count": 1,
   "metadata": {
    "ExecuteTime": {
     "end_time": "2020-11-09T03:12:14.587483Z",
     "start_time": "2020-11-09T03:12:13.771438Z"
    }
   },
   "outputs": [],
   "source": [
    "import numpy as np\n",
    "import tensorflow as tf\n",
    "import cv2\n",
    "from matplotlib import pyplot as plt\n",
    "from PIL import Image\n",
    "import dlib"
   ]
  },
  {
   "cell_type": "code",
   "execution_count": 2,
   "metadata": {
    "ExecuteTime": {
     "end_time": "2020-11-09T03:12:18.421825Z",
     "start_time": "2020-11-09T03:12:18.404967Z"
    }
   },
   "outputs": [],
   "source": [
    "def display_image(face_mesh_result, img_path):\n",
    "    plt.imshow(process_input(img_path , 192, 192), zorder=1)\n",
    "    x, y = face_mesh_result[:, 0], face_mesh_result[:, 1]\n",
    "    plt.scatter(x, y, zorder=2, s=1.0)\n",
    "    plt.show()\n",
    "    \n",
    "def process_input(img_path, new_w=192, new_h=192, img_format='pil_image'):\n",
    "    if img_format == 'pil_image':\n",
    "        img = Image.open(img_path)\n",
    "#         img = img.resize((new_w, new_h))\n",
    "\n",
    "    if img_format == 'cv2':\n",
    "        img = cv2.imread(img_path)\n",
    "#         img = cv2.resize(img, (new_w, new_h))\n",
    "\n",
    "    return img\n",
    "\n",
    "def process_landmark_points(face_mesh_result):\n",
    "    landmark_points_org = face_mesh_result[:, 0:2]\n",
    "    landmark_points_org = [\n",
    "        list(map(int, i)) for i in landmark_points_org\n",
    "    ]\n",
    "    landmark_points_tuple = [tuple(i) for i in landmark_points_org]\n",
    "    landmark_points_arr = np.array(landmark_points_tuple, np.int32)\n",
    "    \n",
    "    return landmark_points_tuple,landmark_points_arr\n",
    "\n",
    "def rect_around_triangle(points_list):\n",
    "    triangle = np.array(points_list, np.int32)\n",
    "    rect = cv2.boundingRect(triangle)\n",
    "    return rect"
   ]
  },
  {
   "cell_type": "code",
   "execution_count": 3,
   "metadata": {
    "ExecuteTime": {
     "end_time": "2020-11-09T03:12:18.775068Z",
     "start_time": "2020-11-09T03:12:18.772900Z"
    }
   },
   "outputs": [],
   "source": [
    "# test_image_path = './test.jpg'\n",
    "# face_mesh_result = inference_facemesh(test_image_path)\n",
    "# display_image(face_mesh_result, test_image_path)"
   ]
  },
  {
   "cell_type": "code",
   "execution_count": 4,
   "metadata": {
    "ExecuteTime": {
     "end_time": "2020-11-09T03:12:19.970706Z",
     "start_time": "2020-11-09T03:12:19.135081Z"
    }
   },
   "outputs": [],
   "source": [
    "source_path = './bradley_cooper.jpg'\n",
    "target_path = './jim_carrey.jpg'\n",
    "\n",
    "# original image , gray image, and mask\n",
    "source_img = process_input(source_path,img_format='cv2')\n",
    "source_img_gray = cv2.cvtColor(source_img, cv2.COLOR_BGR2GRAY)\n",
    "source_img_mask = np.zeros_like(source_img_gray)\n",
    "\n",
    "target_img = process_input(target_path,img_format='cv2')\n",
    "target_img_gray = cv2.cvtColor(target_img, cv2.COLOR_BGR2GRAY)\n",
    "target_img_mask = np.zeros_like(target_img_gray)\n",
    "\n",
    "detector = dlib.get_frontal_face_detector()\n",
    "predictor = dlib.shape_predictor(\"shape_predictor_68_face_landmarks.dat\")\n",
    "\n",
    "faces_source = detector(source_img_gray)\n",
    "faces_target = detector(target_img_gray)\n",
    "\n",
    "landmarks = predictor(source_img, faces_source[0])\n",
    "landmarks_points_source = []\n",
    "for n in range(0, 68):\n",
    "    x = landmarks.part(n).x\n",
    "    y = landmarks.part(n).y\n",
    "    landmarks_points_source.append((x, y))\n",
    "source_landmark_points_tuple = landmarks_points_source\n",
    "source_landmark_points_arr = np.array(source_landmark_points_tuple, np.int32)\n",
    "\n",
    "landmarks = predictor(target_img, faces_target[0])\n",
    "landmarks_points_target = []\n",
    "for n in range(0, 68):\n",
    "    x = landmarks.part(n).x\n",
    "    y = landmarks.part(n).y\n",
    "    landmarks_points_target.append((x, y))\n",
    "target_landmark_points_tuple = landmarks_points_target\n",
    "target_landmark_points_arr = np.array(target_landmark_points_tuple, np.int32)\n",
    "\n",
    "source_convex_hul = cv2.convexHull(source_landmark_points_arr)\n",
    "target_convex_hul = cv2.convexHull(target_landmark_points_arr)"
   ]
  },
  {
   "cell_type": "code",
   "execution_count": 5,
   "metadata": {
    "ExecuteTime": {
     "end_time": "2020-11-09T03:12:20.029354Z",
     "start_time": "2020-11-09T03:12:20.027740Z"
    }
   },
   "outputs": [],
   "source": [
    "# cv2.imshow(\"Image 1\", source_img)\n",
    "# cv2.imshow(\"Image 2\", target_img)\n",
    "# cv2.waitKey(0)\n",
    "# cv2.destroyAllWindows()"
   ]
  },
  {
   "cell_type": "code",
   "execution_count": 6,
   "metadata": {
    "ExecuteTime": {
     "end_time": "2020-11-09T03:12:20.090704Z",
     "start_time": "2020-11-09T03:12:20.089248Z"
    }
   },
   "outputs": [],
   "source": [
    "# # For visualization\n",
    "\n",
    "# cv2.polylines(source_img,[source_convex_hul],True,(255,0,0),3) # draws a boundary convex hull around face\n",
    "# cv2.fillConvexPoly(source_img_mask,source_convex_hul,255) # fill area inside convex hull of mask with 255\n",
    "\n",
    "# face_image_1 = cv2.bitwise_and(source_img, source_img, mask=source_img_mask)\n",
    "# cv2.imshow(\"Image 1\", source_img)\n",
    "# cv2.imshow(\"Face image 1\", face_image_1)\n",
    "# cv2.imshow(\"Mask\", source_img_mask)\n",
    "# cv2.waitKey(0)\n",
    "# cv2.destroyAllWindows()"
   ]
  },
  {
   "cell_type": "code",
   "execution_count": 7,
   "metadata": {
    "ExecuteTime": {
     "end_time": "2020-11-09T03:12:20.192543Z",
     "start_time": "2020-11-09T03:12:20.186855Z"
    }
   },
   "outputs": [],
   "source": [
    "# Delaunav Triangulation for source face\n",
    "rect = cv2.boundingRect(\n",
    "    source_convex_hul\n",
    ")  # returns rectangle sourrouding the convexhull (x,y,w,h)\n",
    "subdiv = cv2.Subdiv2D(\n",
    "    rect\n",
    ")  # this is a builtin function in opencv to find Delaunav triangulation\n",
    "subdiv.insert(source_landmark_points_tuple)  # insert the points as tuple\n",
    "triangles_source_face = subdiv.getTriangleList(\n",
    ")  # returns the triangle from image (3 point of x,y)\n",
    "triangles_source_face = np.array(triangles_source_face, dtype=np.int32)\n",
    "\n",
    "#get the corresponding index from the landmark_points_arr\n",
    "#this index will be used to get the values from the target_face\n",
    "\n",
    "triangles_source_face_index = []\n",
    "for t in triangles_source_face:\n",
    "    pt1 = (t[0], t[1])\n",
    "    pt1_index = np.where((source_landmark_points_arr == pt1).all(axis=1))[0][0]\n",
    "    pt2 = (t[2], t[3])\n",
    "    pt2_index = np.where((source_landmark_points_arr == pt2).all(axis=1))[0][0]\n",
    "    pt3 = (t[4], t[5])\n",
    "    pt3_index = np.where((source_landmark_points_arr == pt3).all(axis=1))[0][0]\n",
    "    triangles_source_face_index.append([pt1_index, pt2_index, pt3_index])\n",
    "\n",
    "    # For visualization\n",
    "#     cv2.line(source_img, pt1, pt2, (0, 0, 255), 2)\n",
    "#     cv2.line(source_img, pt2, pt3, (0, 0, 255), 2)\n",
    "#     cv2.line(source_img, pt1, pt3, (0, 0, 255), 2)\n",
    "\n",
    "# cv2.imshow(\"Image 1\", source_img)\n",
    "# cv2.waitKey(0)\n",
    "# cv2.destroyAllWindows()"
   ]
  },
  {
   "cell_type": "code",
   "execution_count": 8,
   "metadata": {
    "ExecuteTime": {
     "end_time": "2020-11-09T03:12:20.970081Z",
     "start_time": "2020-11-09T03:12:20.968532Z"
    }
   },
   "outputs": [],
   "source": [
    "# # For visualization\n",
    "# x,y,w,h = rect\n",
    "# cv2.rectangle(source_img,(x,y),(x+w,y+h),(0,255,0))\n",
    "# cv2.imshow(\"Image 1\", source_img)\n",
    "# cv2.waitKey(0)\n",
    "# cv2.destroyAllWindows()"
   ]
  },
  {
   "cell_type": "code",
   "execution_count": 9,
   "metadata": {
    "ExecuteTime": {
     "end_time": "2020-11-09T03:12:21.409560Z",
     "start_time": "2020-11-09T03:12:21.406616Z"
    }
   },
   "outputs": [],
   "source": [
    "# eval('source_' + str('landmark_points_arr'))"
   ]
  },
  {
   "cell_type": "code",
   "execution_count": null,
   "metadata": {
    "ExecuteTime": {
     "end_time": "2020-11-08T16:10:47.879373Z",
     "start_time": "2020-11-08T16:10:47.872512Z"
    }
   },
   "outputs": [],
   "source": []
  },
  {
   "cell_type": "code",
   "execution_count": 10,
   "metadata": {
    "ExecuteTime": {
     "end_time": "2020-11-09T03:12:22.442429Z",
     "start_time": "2020-11-09T03:12:22.440481Z"
    }
   },
   "outputs": [],
   "source": [
    "# # For visualization \n",
    "# # Triangulation of target face using the source face\n",
    "\n",
    "# for triangle_index in triangles_source_face_index:\n",
    "#     # Triangulation Source Face\n",
    "#     tr1_pt1 = tuple(source_landmark_points_arr[triangle_index[0]])\n",
    "#     tr1_pt2 = tuple(source_landmark_points_arr[triangle_index[1]])\n",
    "#     tr1_pt3 = tuple(source_landmark_points_arr[triangle_index[2]])\n",
    "\n",
    "#     (x, y, w, h) = rect_around_triangle([tr1_pt1, tr1_pt2, tr1_pt3])\n",
    "#     cropped_triangle_source = source_img[y:y + h, x:x + w]\n",
    "\n",
    "#     cropped_triangle1_mask = np.zeros((h, w), np.uint8)\n",
    "#     points1 = np.array(\n",
    "#         [[tr1_pt1[0] - x, tr1_pt1[1] - y], [tr1_pt2[0] - x, tr1_pt2[1] - y],\n",
    "#          [tr1_pt3[0] - x, tr1_pt3[1] - y]], np.int32)\n",
    "#     cv2.fillConvexPoly(cropped_triangle1_mask, points1, 255)\n",
    "#     cropped_triangle_source = cv2.bitwise_and(cropped_triangle_source,\n",
    "#                                         cropped_triangle_source,\n",
    "#                                         mask=cropped_triangle1_mask)\n",
    "\n",
    "#     # Triangulation Target Face\n",
    "#     tr2_pt1 = tuple(target_landmark_points_arr[triangle_index[0]])\n",
    "#     tr2_pt2 = tuple(target_landmark_points_arr[triangle_index[1]])\n",
    "#     tr2_pt3 = tuple(target_landmark_points_arr[triangle_index[2]])\n",
    "\n",
    "#     (x, y, w, h) = rect_around_triangle([tr2_pt1, tr2_pt2, tr2_pt3])\n",
    "#     cropped_triangle_target = target_img[y:y + h, x:x + w]\n",
    "\n",
    "#     cropped_triangle2_mask = np.zeros((h, w), np.uint8)\n",
    "#     points2 = np.array(\n",
    "#         [[tr2_pt1[0] - x, tr2_pt1[1] - y], [tr2_pt2[0] - x, tr2_pt2[1] - y],\n",
    "#          [tr2_pt3[0] - x, tr2_pt3[1] - y]], np.int32)\n",
    "#     cv2.fillConvexPoly(cropped_triangle2_mask, points2, 255)\n",
    "#     cropped_triangle_target = cv2.bitwise_and(cropped_triangle_target,\n",
    "#                                         cropped_triangle_target,\n",
    "#                                         mask=cropped_triangle2_mask)\n",
    "    \n",
    "#     points1 = points1.astype(np.float32)\n",
    "#     points2 = points2.astype(np.float32)\n",
    "#     M = cv2.getAffineTransform(points1, points2)\n",
    "#     warped_triangle = cv2.warpAffine(cropped_triangle_source, M, (w, h))\n",
    "#     break\n",
    "    \n",
    "# cv2.imshow(\"Image 1\", warped_triangle)\n",
    "# cv2.imshow(\"Image 2\", cropped_triangle_target)\n",
    "# cv2.imshow(\"Image 3\", cropped_triangle_source)\n",
    "\n",
    "# cv2.waitKey(0)\n",
    "# cv2.destroyAllWindows()"
   ]
  },
  {
   "cell_type": "code",
   "execution_count": 11,
   "metadata": {
    "ExecuteTime": {
     "end_time": "2020-11-09T03:12:23.001836Z",
     "start_time": "2020-11-09T03:12:22.996859Z"
    }
   },
   "outputs": [],
   "source": [
    "# select a rect around each triangle for both the face\n",
    "# create the mask and extract the triangle for both the face\n",
    "# now using affine transform warp the triangle from source face to target face"
   ]
  },
  {
   "cell_type": "code",
   "execution_count": 43,
   "metadata": {
    "ExecuteTime": {
     "end_time": "2020-11-09T03:29:57.350155Z",
     "start_time": "2020-11-09T03:29:57.315715Z"
    }
   },
   "outputs": [],
   "source": [
    "# Triangulation \n",
    "new_target_face = np.zeros_like(target_img) \n",
    "\n",
    "for triangle_index in triangles_source_face_index:\n",
    "\n",
    "    ################ Triangulation Source Face ################\n",
    "    # get triangle index\n",
    "    tr1_pt1 = tuple(source_landmark_points_arr[triangle_index[0]])\n",
    "    tr1_pt2 = tuple(source_landmark_points_arr[triangle_index[1]])\n",
    "    tr1_pt3 = tuple(source_landmark_points_arr[triangle_index[2]])\n",
    "    \n",
    "    # get rect around triangle\n",
    "    (x, y, w, h) = rect_around_triangle([tr1_pt1, tr1_pt2, tr1_pt3])\n",
    "    cropped_triangle_source = source_img[y:y + h, x:x + w]\n",
    "    # create a mask same size of rect\n",
    "    cropped_triangle1_mask = np.zeros((h, w), np.uint8)\n",
    "    points1 = np.array(\n",
    "        [[tr1_pt1[0] - x, tr1_pt1[1] - y], [tr1_pt2[0] - x, tr1_pt2[1] - y],\n",
    "         [tr1_pt3[0] - x, tr1_pt3[1] - y]], np.int32)\n",
    "    cv2.fillConvexPoly(cropped_triangle1_mask, points1, 255)\n",
    "    # this filters out the triangular part of the image using the mask\n",
    "    cropped_triangle_source = cv2.bitwise_and(cropped_triangle_source,\n",
    "                                              cropped_triangle_source,\n",
    "                                              mask=cropped_triangle1_mask)\n",
    "\n",
    "    ################ Triangulation Target Face ################\n",
    "    tr2_pt1 = tuple(target_landmark_points_arr[triangle_index[0]])\n",
    "    tr2_pt2 = tuple(target_landmark_points_arr[triangle_index[1]])\n",
    "    tr2_pt3 = tuple(target_landmark_points_arr[triangle_index[2]])\n",
    "    \n",
    "    # get rect around triangle\n",
    "    (x, y, w, h) = rect_around_triangle([tr2_pt1, tr2_pt2, tr2_pt3])\n",
    "    cropped_triangle_target = target_img[y:y + h, x:x + w]\n",
    "    # create a mask same size of rect\n",
    "    cropped_triangle2_mask = np.zeros((h, w), np.uint8)\n",
    "    points2 = np.array(\n",
    "        [[tr2_pt1[0] - x, tr2_pt1[1] - y], [tr2_pt2[0] - x, tr2_pt2[1] - y],\n",
    "         [tr2_pt3[0] - x, tr2_pt3[1] - y]], np.int32)\n",
    "    cv2.fillConvexPoly(cropped_triangle2_mask, points2, 255)\n",
    "    # this filters out the triangular part of the image using the mask\n",
    "    cropped_triangle_target = cv2.bitwise_and(cropped_triangle_target,\n",
    "                                              cropped_triangle_target,\n",
    "                                              mask=cropped_triangle2_mask)\n",
    "    # warped using affine transform\n",
    "    points1 = points1.astype(np.float32)\n",
    "    points2 = points2.astype(np.float32)\n",
    "    M = cv2.getAffineTransform(points1, points2)\n",
    "    warped_triangle = cv2.warpAffine(cropped_triangle_source, M, (w, h))\n",
    "    warped_triangle = cv2.bitwise_and(warped_triangle, warped_triangle, mask=cropped_triangle2_mask)\n",
    "    \n",
    "    # Reconstructing destination face\n",
    "    new_target_face_rect_area = new_target_face[y: y + h, x: x + w]\n",
    "    new_target_face_rect_area_gray = cv2.cvtColor(new_target_face_rect_area, cv2.COLOR_BGR2GRAY)\n",
    "    \n",
    "    # Let's create a mask to remove the lines between the triangles\n",
    "    _, mask_triangles_designed = cv2.threshold(new_target_face_rect_area_gray, 1, 255, cv2.THRESH_BINARY_INV)\n",
    "    warped_triangle = cv2.bitwise_and(warped_triangle, warped_triangle, mask=mask_triangles_designed)\n",
    "    new_target_face_rect_area = cv2.add(new_target_face_rect_area, warped_triangle)\n",
    "    median = cv2.medianBlur(new_target_face_rect_area,3)\n",
    "    new_target_face[y: y + h, x: x + w] = median"
   ]
  },
  {
   "cell_type": "code",
   "execution_count": 23,
   "metadata": {
    "ExecuteTime": {
     "end_time": "2020-11-09T03:24:19.453747Z",
     "start_time": "2020-11-09T03:24:14.536380Z"
    }
   },
   "outputs": [],
   "source": [
    "cv2.imshow(\"'new_target_face\",new_target_face_rect_area)\n",
    "cv2.waitKey(0)\n",
    "cv2.destroyAllWindows()"
   ]
  },
  {
   "cell_type": "code",
   "execution_count": null,
   "metadata": {
    "ExecuteTime": {
     "end_time": "2020-11-09T03:07:56.149079Z",
     "start_time": "2020-11-09T03:07:56.146627Z"
    }
   },
   "outputs": [],
   "source": [
    "np.min(np.array(new_target_face_rect_area_gray))"
   ]
  },
  {
   "cell_type": "code",
   "execution_count": 44,
   "metadata": {
    "ExecuteTime": {
     "end_time": "2020-11-09T03:30:03.873568Z",
     "start_time": "2020-11-09T03:29:58.949093Z"
    }
   },
   "outputs": [],
   "source": [
    "cv2.imshow(\"'new_target_face\",new_target_face)\n",
    "cv2.waitKey(0)\n",
    "cv2.destroyAllWindows()"
   ]
  },
  {
   "cell_type": "code",
   "execution_count": null,
   "metadata": {
    "ExecuteTime": {
     "end_time": "2020-11-09T02:57:53.345548Z",
     "start_time": "2020-11-09T02:57:53.337509Z"
    }
   },
   "outputs": [],
   "source": [
    "new_target_face_gray = cv2.cvtColor(new_target_face, cv2.COLOR_BGR2GRAY)\n",
    "test_mask = cv2.threshold(new_target_face_gray, 0, 255, cv2.THRESH_BINARY_INV)"
   ]
  },
  {
   "cell_type": "code",
   "execution_count": 47,
   "metadata": {
    "ExecuteTime": {
     "end_time": "2020-11-09T03:30:38.540458Z",
     "start_time": "2020-11-09T03:30:30.445039Z"
    }
   },
   "outputs": [],
   "source": [
    "# Face swapped (putting 1st face into 2nd face)\n",
    "img2_face_mask = np.zeros_like(target_img_gray)\n",
    "img2_head_mask = cv2.fillConvexPoly(img2_face_mask, target_convex_hul, 255)\n",
    "img2_face_mask = cv2.bitwise_not(img2_head_mask)\n",
    "img2_head_noface = cv2.bitwise_and(target_img, target_img, mask=img2_face_mask)\n",
    "result = cv2.add(img2_head_noface, new_target_face)\n",
    "\n",
    "(x, y, w, h) = cv2.boundingRect(target_convex_hul)\n",
    "center_face2 = (int((x + x + w) / 2), int((y + y + h) / 2))\n",
    "seamlessclone = cv2.seamlessClone(result, target_img, img2_head_mask, center_face2, cv2.MIXED_CLONE)\n",
    "\n",
    "cv2.imshow(\"seamlessclone\",seamlessclone)\n",
    "# cv2.imshow(\"result\",result)\n",
    "# cv2.imshow(\"image2\",img_1)\n",
    "cv2.waitKey(0)\n",
    "cv2.destroyAllWindows() "
   ]
  },
  {
   "cell_type": "code",
   "execution_count": 42,
   "metadata": {
    "ExecuteTime": {
     "end_time": "2020-11-09T03:29:49.272556Z",
     "start_time": "2020-11-09T03:29:45.391672Z"
    }
   },
   "outputs": [],
   "source": [
    "median = cv2.medianBlur(seamlessclone,7)\n",
    "cv2.imshow(\"'new_target_face\",median)\n",
    "cv2.waitKey(0)\n",
    "cv2.destroyAllWindows()"
   ]
  },
  {
   "cell_type": "code",
   "execution_count": 37,
   "metadata": {
    "ExecuteTime": {
     "end_time": "2020-11-09T03:28:07.259297Z",
     "start_time": "2020-11-09T03:28:07.256963Z"
    }
   },
   "outputs": [
    {
     "data": {
      "text/plain": [
       "1155"
      ]
     },
     "execution_count": 37,
     "metadata": {},
     "output_type": "execute_result"
    }
   ],
   "source": [
    "seamlessclone.shape[0]"
   ]
  },
  {
   "cell_type": "code",
   "execution_count": 21,
   "metadata": {
    "ExecuteTime": {
     "end_time": "2020-11-09T03:23:02.121658Z",
     "start_time": "2020-11-09T03:23:01.903124Z"
    }
   },
   "outputs": [
    {
     "data": {
      "text/plain": [
       "<matplotlib.image.AxesImage at 0x7fa2fee07c70>"
      ]
     },
     "execution_count": 21,
     "metadata": {},
     "output_type": "execute_result"
    },
    {
     "data": {
      "image/png": "[encoded data removed]",
      "text/plain": [
       "<Figure size 432x288 with 1 Axes>"
      ]
     },
     "metadata": {
      "needs_background": "light"
     },
     "output_type": "display_data"
    }
   ],
   "source": [
    "plt.imshow(seamlessclone)"
   ]
  },
  {
   "cell_type": "code",
   "execution_count": 40,
   "metadata": {
    "ExecuteTime": {
     "end_time": "2020-11-09T03:29:18.670189Z",
     "start_time": "2020-11-09T03:29:16.237846Z"
    }
   },
   "outputs": [],
   "source": [
    "resized = cv2.resize(seamlessclone, (seamlessclone.shape[0],seamlessclone.shape[1]), interpolation=cv2.INTER_NEAREST)\n",
    "cv2.imshow(\"'new_target_face\",resized)\n",
    "cv2.waitKey(0)\n",
    "cv2.destroyAllWindows()"
   ]
  },
  {
   "cell_type": "code",
   "execution_count": null,
   "metadata": {},
   "outputs": [],
   "source": []
  }
 ],
 "metadata": {
  "kernelspec": {
   "display_name": "mediapipe",
   "language": "python",
   "name": "mediapipe"
  },
  "language_info": {
   "codemirror_mode": {
    "name": "ipython",
    "version": 3
   },
   "file_extension": ".py",
   "mimetype": "text/x-python",
   "name": "python",
   "nbconvert_exporter": "python",
   "pygments_lexer": "ipython3",
   "version": "3.8.5"
  },
  "varInspector": {
   "cols": {
    "lenName": 16,
    "lenType": 16,
    "lenVar": 40
   },
   "kernels_config": {
    "python": {
     "delete_cmd_postfix": "",
     "delete_cmd_prefix": "del ",
     "library": "var_list.py",
     "varRefreshCmd": "print(var_dic_list())"
    },
    "r": {
     "delete_cmd_postfix": ") ",
     "delete_cmd_prefix": "rm(",
     "library": "var_list.r",
     "varRefreshCmd": "cat(var_dic_list()) "
    }
   },
   "types_to_exclude": [
    "module",
    "function",
    "builtin_function_or_method",
    "instance",
    "_Feature"
   ],
   "window_display": false
  }
 },
 "nbformat": 4,
 "nbformat_minor": 4
}
